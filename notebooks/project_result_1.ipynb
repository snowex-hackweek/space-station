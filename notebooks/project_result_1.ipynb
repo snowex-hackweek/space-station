{
 "cells": [
  {
   "cell_type": "markdown",
   "metadata": {
    "tags": []
   },
   "source": [
    "# Space Station 🚀\n",
    "```\n",
    "           ___\n",
    "     |     | |\n",
    "    / \\    | |\n",
    "   |--o|===|-|\n",
    "   |---|   |N|\n",
    "  /     \\  |A|\n",
    " | Snow  | |S|\n",
    " | Ex    |=|A|\n",
    " |       | | |\n",
    " |_______| |_|\n",
    "  |@| |@|  | |\n",
    "  *** *** \n",
    " ***********\n",
    "*************\n",
    "```\n",
    "\n"
   ]
  },
  {
   "cell_type": "markdown",
   "metadata": {
    "tags": []
   },
   "source": [
    "## SnowEx Hackweek 2022\n",
    "\n",
    "### \"Hack\"-tronauts\n",
    "- **Team Leader:** Micah \"Sub-naught\" Johnson\n",
    "- Beau Uriona\n",
    "- Wyatt Reis\n",
    "- Angela Rienzo\n",
    "- Danny Hogan\n",
    "- Jordan Beer\n",
    "- Ibrahim Olalekan Alabi\n",
    "- Dylan Craaybeek\n",
    "- Micah \"Prime\" Sandusky \n",
    "- Ross Palomaki"
   ]
  },
  {
   "cell_type": "markdown",
   "metadata": {},
   "source": [
    "## Motivation\n",
    "\n",
    "1. Can we build a pipeline to connect a SNOTEL station's observations to the closest relavent SnowEx data of interest?\n",
    "2. How does a SNOTEL station represent surrounding measured snow from ASO's snow depth product?\n",
    "3. What are the main drivers for the surrounding heterogeneity (distance, predominant wind, slope, veg cover, aspect, elevation, etc.)?"
   ]
  },
  {
   "cell_type": "markdown",
   "metadata": {},
   "source": [
    "## Process\n",
    "![Diagram showing raster to depth](./figures/raster-depth-diff.jpg)"
   ]
  },
  {
   "cell_type": "markdown",
   "metadata": {},
   "source": [
    "## Locations"
   ]
  },
  {
   "cell_type": "markdown",
   "metadata": {
    "jp-MarkdownHeadingCollapsed": true,
    "tags": []
   },
   "source": [
    "### Map with All Locations\n",
    "![Show ArcPro figures here](figures/ZoomedOut.png)"
   ]
  },
  {
   "cell_type": "markdown",
   "metadata": {},
   "source": [
    "### Location close-up with Buffer\n",
    "![Show ArcPro figures here](figures/ZoomedIn.png)"
   ]
  },
  {
   "cell_type": "markdown",
   "metadata": {},
   "source": [
    "## Results and Visualizations"
   ]
  },
  {
   "cell_type": "markdown",
   "metadata": {},
   "source": [
    "### Visualize depth difference between snow depth raster and SNOTEL snow dpeth"
   ]
  },
  {
   "cell_type": "code",
   "execution_count": null,
   "metadata": {},
   "outputs": [],
   "source": [
    "# Show Point map with difference values "
   ]
  },
  {
   "cell_type": "markdown",
   "metadata": {},
   "source": [
    "### Some rudimentary stats "
   ]
  },
  {
   "cell_type": "markdown",
   "metadata": {},
   "source": [
    "![Show ArcPro figures here](figures/histogram.png)\n",
    "![Show ArcPro figures here](figures/line_plot.png)"
   ]
  },
  {
   "cell_type": "markdown",
   "metadata": {},
   "source": [
    "## Next Steps\n",
    "\n",
    "- Analyze with respect to other terrain variables\n",
    "- Look at other SnowEx flights and products that align with SNOTEL sites\n",
    "- Snow poles as \"stations\"\n",
    "- Expand to look at any snow depth lidar products\n",
    "- Comparing to snow model output\n"
   ]
  }
 ],
 "metadata": {
  "kernelspec": {
   "display_name": "Python 3 (ipykernel)",
   "language": "python",
   "name": "python3"
  },
  "language_info": {
   "codemirror_mode": {
    "name": "ipython",
    "version": 3
   },
   "file_extension": ".py",
   "mimetype": "text/x-python",
   "name": "python",
   "nbconvert_exporter": "python",
   "pygments_lexer": "ipython3",
   "version": "3.10.5"
  }
 },
 "nbformat": 4,
 "nbformat_minor": 4
}
