{
 "cells": [
  {
   "cell_type": "code",
   "execution_count": 1,
   "id": "869a047e",
   "metadata": {},
   "outputs": [],
   "source": [
    "import geopandas as gpd\n",
    "from datetime import datetime\n",
    "\n",
    "from metloom.pointdata import MesowestPointData"
   ]
  },
  {
   "cell_type": "markdown",
   "id": "9baec1b9",
   "metadata": {},
   "source": [
    "## READ THIS FOR MESOWEST DATA\n",
    "https://metloom.readthedocs.io/en/latest/usage.html#mesowest\n",
    "You'll also need to pip install metloom"
   ]
  },
  {
   "cell_type": "code",
   "execution_count": 2,
   "id": "3b85ed03",
   "metadata": {},
   "outputs": [],
   "source": [
    "\n",
    "# Import the function to get connect to the db\n",
    "from snowexsql.db import get_db\n",
    "\n",
    "# Import our class for the layer data\n",
    "from snowexsql.data import PointData, SiteData\n",
    "\n",
    "# Import a useful function to format that data into a dataframe\n",
    "from snowexsql.conversions import query_to_geopandas\n",
    "\n",
    "# Import some tools to build dates \n",
    "from datetime import date\n",
    "\n",
    "# This is what you will use for all of hackweek to access the db\n",
    "db_name = 'snow:hackweek@db.snowexdata.org/snowex'"
   ]
  },
  {
   "cell_type": "code",
   "execution_count": 3,
   "id": "78668fd4",
   "metadata": {},
   "outputs": [
    {
     "name": "stdout",
     "output_type": "stream",
     "text": [
      "The CRS of the Snow Ex metadata is - epsg:26912\n"
     ]
    }
   ],
   "source": [
    "engine, session = get_db(db_name)\n",
    "qry = session.query(SiteData.site_name, SiteData.site_id, SiteData.geom)\n",
    "qry = qry.filter(SiteData.site_name == \"Grand Mesa\")\n",
    "\n",
    "gdf_snow_ex = query_to_geopandas(qry, engine) # .drop_duplicates(subset=[\"site_name\"])\n",
    "session.close()\n",
    "\n",
    "print(f\"The CRS of the Snow Ex metadata is - {gdf_snow_ex.crs}\")\n",
    "gdf_snow_ex_buffer = gdf_snow_ex.buffer(50000)\n",
    "snow_ex_bounds = gdf_snow_ex.to_crs(4326).total_bounds\n"
   ]
  },
  {
   "cell_type": "code",
   "execution_count": 4,
   "id": "fce52ce7",
   "metadata": {},
   "outputs": [],
   "source": [
    "from shapely.geometry import box\n",
    "def bounds_to_shapefile(bounds, file_name, crs):\n",
    "    b = [box(*bounds)]\n",
    "    gdf = gpd.GeoDataFrame(geometry=b).set_crs(crs)\n",
    "    gdf.to_file(file_name)"
   ]
  },
  {
   "cell_type": "code",
   "execution_count": 18,
   "id": "3d6338b6",
   "metadata": {},
   "outputs": [],
   "source": [
    "# Specify some user inputs\n",
    "start_date = datetime(2020, 2, 1)\n",
    "end_date = datetime(2020, 3, 3)\n",
    "shape_file_path = \"gm_bounds.shp\""
   ]
  },
  {
   "cell_type": "code",
   "execution_count": 19,
   "id": "2d3e269f",
   "metadata": {},
   "outputs": [
    {
     "name": "stdout",
     "output_type": "stream",
     "text": [
      "         minx       miny       maxx       maxy\n",
      "0 -108.221439  39.007606 -108.00313  39.064291\n"
     ]
    },
    {
     "data": {
      "image/png": "[encoded data removed]",
      "text/plain": [
       "<Figure size 432x288 with 1 Axes>"
      ]
     },
     "metadata": {
      "needs_background": "light"
     },
     "output_type": "display_data"
    }
   ],
   "source": [
    "bounds_to_shapefile(snow_ex_bounds, shape_file_path, 4326)\n",
    "df_shp = gpd.read_file(shape_file_path)\n",
    "df_shp.plot()\n",
    "print(df_shp.bounds)"
   ]
  },
  {
   "cell_type": "code",
   "execution_count": 20,
   "id": "53190349",
   "metadata": {},
   "outputs": [],
   "source": [
    "# variables of interest\n",
    "var_objs = [MesowestPointData.ALLOWED_VARIABLES.WINDSPEED, MesowestPointData.ALLOWED_VARIABLES.WINDDIRECTION\n",
    "            ]\n",
    "# read in the shape file\n",
    "sf = gpd.read_file(shape_file_path)\n",
    "\n",
    "# get a collection of points\n",
    "points = MesowestPointData.points_from_geometry(\n",
    "    sf, var_objs, within_geometry=False, buffer=0.1\n",
    ")\n",
    "\n",
    "# iterate through points and get hourly data\n",
    "result_map = {}\n",
    "for point in points:\n",
    "    result = point.get_hourly_data(\n",
    "        start_date, end_date, var_objs\n",
    "    )\n",
    "    if result is not None:\n",
    "        result_map[point.id] = result\n",
    "# print(result_map)"
   ]
  },
  {
   "cell_type": "code",
   "execution_count": 21,
   "id": "4e52723e",
   "metadata": {},
   "outputs": [
    {
     "data": {
      "text/plain": [
       "dict_keys(['D1827', 'CAGMS', 'GMSPC'])"
      ]
     },
     "execution_count": 21,
     "metadata": {},
     "output_type": "execute_result"
    }
   ],
   "source": [
    "result_map.keys()"
   ]
  },
  {
   "cell_type": "code",
   "execution_count": 22,
   "id": "26cfebfd-9d9b-4034-b01f-adf1987cd8be",
   "metadata": {},
   "outputs": [],
   "source": [
    "df = result_map['D1827'][']"
   ]
  },
  {
   "cell_type": "code",
   "execution_count": 35,
   "id": "7c8d5b62-ca43-4a5f-8ad4-864ccb57adcd",
   "metadata": {},
   "outputs": [],
   "source": [
    "df.rename(columns={'WIND SPEED':'wspd', 'WIND DIRECTION':'wdir'}, inplace=True)"
   ]
  },
  {
   "cell_type": "code",
   "execution_count": 24,
   "id": "152329f3-7b57-462c-becc-a005d3698c93",
   "metadata": {},
   "outputs": [
    {
     "data": {
      "text/plain": [
       "23.125"
      ]
     },
     "execution_count": 24,
     "metadata": {},
     "output_type": "execute_result"
    }
   ],
   "source": [
    "555/24"
   ]
  },
  {
   "cell_type": "code",
   "execution_count": null,
   "id": "d8ad1aff-cbd5-4acb-9636-a151629c550e",
   "metadata": {},
   "outputs": [],
   "source": [
    "def classify_winds(df, bins_wspd, bins_wdir=(np.arange()+22.5)%360):\n",
    "    \n",
    "\n",
    "\n",
    "\n"
   ]
  },
  {
   "cell_type": "code",
   "execution_count": 46,
   "id": "35729e79-2b5d-44fa-a24d-0b7e8a0bb0ec",
   "metadata": {},
   "outputs": [
    {
     "data": {
      "text/plain": [
       "array([ 11.25,  33.75,  56.25,  78.75, 101.25, 123.75, 146.25, 168.75,\n",
       "       191.25, 213.75, 236.25, 258.75, 281.25, 303.75, 326.25, 348.75])"
      ]
     },
     "execution_count": 46,
     "metadata": {},
     "output_type": "execute_result"
    }
   ],
   "source": [
    "import numpy as np\n",
    "(np.arange(0, 360, 22.5)+11.25)%360\n"
   ]
  },
  {
   "cell_type": "code",
   "execution_count": 52,
   "id": "a785410c-e7c9-4966-bfdd-5b7bd1b3a7b4",
   "metadata": {},
   "outputs": [],
   "source": [
    "import pandas as pd\n",
    "\n",
    "wspds = np.arange(0, 10, 2)\n",
    "wspd_labels = ['0-2','2-4','4-6','6-8','8-10']\n",
    "wdirs = (np.arange(0, 360, 22.5)+11.25)%360\n",
    "wdir_labels = ['N', 'NNE', 'NE', 'ENE', 'E', 'ESE', 'SE', 'SSE', \n",
    "         'S', 'SSW', 'SW', 'WSW', 'W', 'WNW', 'NW', 'NNW']\n",
    "\n",
    "df['wspd_cat'] = pd.cut(df['wspd'], bins=5, labels=wspd_labels)\n",
    "df['wdir_cat'] = pd.cut(df['wdir'], bins=)"
   ]
  },
  {
   "cell_type": "code",
   "execution_count": 51,
   "id": "45290a25-0011-426c-8c8c-498f9f0b8697",
   "metadata": {},
   "outputs": [
    {
     "data": {
      "text/plain": [
       "datetime                   site \n",
       "2020-02-01 02:00:00+00:00  D1827    0-2\n",
       "2020-02-01 07:00:00+00:00  D1827    0-2\n",
       "2020-02-01 08:00:00+00:00  D1827    0-2\n",
       "2020-02-01 09:00:00+00:00  D1827    0-2\n",
       "2020-02-01 11:00:00+00:00  D1827    0-2\n",
       "                                   ... \n",
       "2020-03-02 20:00:00+00:00  D1827    0-2\n",
       "2020-03-02 21:00:00+00:00  D1827    2-4\n",
       "2020-03-02 22:00:00+00:00  D1827    0-2\n",
       "2020-03-02 23:00:00+00:00  D1827    0-2\n",
       "2020-03-03 00:00:00+00:00  D1827    0-2\n",
       "Name: wspd, Length: 555, dtype: category\n",
       "Categories (5, object): ['0-2' < '2-4' < '4-6' < '6-8' < '8-10']"
      ]
     },
     "execution_count": 51,
     "metadata": {},
     "output_type": "execute_result"
    }
   ],
   "source": [
    "test"
   ]
  },
  {
   "cell_type": "code",
   "execution_count": null,
   "id": "3bafbe6c-d0c9-4723-907b-cbaee5405c3c",
   "metadata": {},
   "outputs": [],
   "source": []
  }
 ],
 "metadata": {
  "kernelspec": {
   "display_name": "Python 3 (ipykernel)",
   "language": "python",
   "name": "python3"
  },
  "language_info": {
   "codemirror_mode": {
    "name": "ipython",
    "version": 3
   },
   "file_extension": ".py",
   "mimetype": "text/x-python",
   "name": "python",
   "nbconvert_exporter": "python",
   "pygments_lexer": "ipython3",
   "version": "3.10.5"
  }
 },
 "nbformat": 4,
 "nbformat_minor": 5
}
