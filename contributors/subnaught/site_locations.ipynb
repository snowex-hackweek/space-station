{
 "cells": [
  {
   "cell_type": "markdown",
   "id": "2b3687cb",
   "metadata": {},
   "source": [
    "# Sites Shapefile\n"
   ]
  },
  {
   "cell_type": "code",
   "execution_count": 1,
   "id": "e5d606cf",
   "metadata": {},
   "outputs": [],
   "source": [
    "from snowexsql.data import SiteData\n",
    "from snowexsql.db import get_db \n",
    "from snowexsql.conversions import query_to_geopandas, query_to_pandas\n",
    "from geopandas import GeoDataFrame\n",
    "import pandas as pd \n",
    "import geopandas as gpd\n",
    "\n",
    "\n",
    "db_name = 'snow:hackweek@db.snowexdata.org/snowex'"
   ]
  },
  {
   "cell_type": "code",
   "execution_count": 14,
   "id": "9c6eb719",
   "metadata": {},
   "outputs": [],
   "source": [
    "engine, session = get_db(db_name)\n",
    "\n",
    "qry = session.query(SiteData.site_id, SiteData.latitude, SiteData.longitude, SiteData.site_name).distinct()\n",
    "\n",
    "df_snow_ex = query_to_pandas(qry, engine)\n",
    "gdf_snow_ex = gpd.GeoDataFrame(\n",
    "    df_snow_ex, \n",
    "    geometry=gpd.points_from_xy(df_snow_ex.longitude, df_snow_ex.latitude),\n",
    "    crs=4326\n",
    ")"
   ]
  },
  {
   "cell_type": "code",
   "execution_count": 15,
   "id": "8e49f151",
   "metadata": {},
   "outputs": [
    {
     "data": {
      "text/plain": [
       "<matplotlib.axes._subplots.AxesSubplot at 0x7f8e79708760>"
      ]
     },
     "execution_count": 15,
     "metadata": {},
     "output_type": "execute_result"
    },
    {
     "data": {
      "image/png": "[encoded data removed]",
      "text/plain": [
       "<Figure size 432x288 with 1 Axes>"
      ]
     },
     "metadata": {
      "needs_background": "light"
     },
     "output_type": "display_data"
    }
   ],
   "source": [
    "gdf_snow_ex.plot()"
   ]
  },
  {
   "cell_type": "code",
   "execution_count": 13,
   "id": "d3db548f",
   "metadata": {},
   "outputs": [],
   "source": [
    "gdf_snow_ex.to_file('snowex_site_locations.json')  \n",
    "gdf_snow_ex.to_file('snowex_site_locations.shp')  "
   ]
  },
  {
   "cell_type": "code",
   "execution_count": 17,
   "id": "280ecffe",
   "metadata": {},
   "outputs": [
    {
     "name": "stdout",
     "output_type": "stream",
     "text": [
      "              site_id   latitude   longitude     site_name  \\\n",
      "0        Forest North  40.033250 -105.553730   Niwot Ridge   \n",
      "1                7S23  39.017675 -108.171173    Grand Mesa   \n",
      "2         Skyway Open  39.050930 -108.061300    Grand Mesa   \n",
      "3    County Line Tree  39.032250 -108.034590    Grand Mesa   \n",
      "4          Joe Wright  40.524080 -105.893450  Cameron Pass   \n",
      "..                ...        ...         ...           ...   \n",
      "525    HQ Met Station  35.857890 -106.521360   Jemez River   \n",
      "526              1S12  39.018264 -108.191417    Grand Mesa   \n",
      "527              8S28  39.019427 -108.166172    Grand Mesa   \n",
      "528         Open Flat  40.035880 -105.552210   Niwot Ridge   \n",
      "529              3N26  39.033415 -108.184233    Grand Mesa   \n",
      "\n",
      "                        geometry  \n",
      "0    POINT (-105.55373 40.03325)  \n",
      "1    POINT (-108.17117 39.01767)  \n",
      "2    POINT (-108.06130 39.05093)  \n",
      "3    POINT (-108.03459 39.03225)  \n",
      "4    POINT (-105.89345 40.52408)  \n",
      "..                           ...  \n",
      "525  POINT (-106.52136 35.85789)  \n",
      "526  POINT (-108.19142 39.01826)  \n",
      "527  POINT (-108.16617 39.01943)  \n",
      "528  POINT (-105.55221 40.03588)  \n",
      "529  POINT (-108.18423 39.03341)  \n",
      "\n",
      "[530 rows x 5 columns]\n"
     ]
    }
   ],
   "source": [
    "print(gdf_snow_ex)"
   ]
  },
  {
   "cell_type": "code",
   "execution_count": null,
   "id": "065cd89b",
   "metadata": {},
   "outputs": [],
   "source": []
  }
 ],
 "metadata": {
  "kernelspec": {
   "display_name": "Python 3 (ipykernel)",
   "language": "python",
   "name": "python3"
  },
  "language_info": {
   "codemirror_mode": {
    "name": "ipython",
    "version": 3
   },
   "file_extension": ".py",
   "mimetype": "text/x-python",
   "name": "python",
   "nbconvert_exporter": "python",
   "pygments_lexer": "ipython3",
   "version": "3.8.10"
  }
 },
 "nbformat": 4,
 "nbformat_minor": 5
}
