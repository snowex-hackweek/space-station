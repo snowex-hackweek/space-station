{
 "cells": [
  {
   "cell_type": "markdown",
   "id": "f65d96d3",
   "metadata": {},
   "source": [
    "# Sites Shapefile\n"
   ]
  },
  {
   "cell_type": "code",
   "execution_count": 35,
   "id": "80eab5ab",
   "metadata": {},
   "outputs": [],
   "source": [
    "from snowexsql.data import SiteData\n",
    "from snowexsql.db import get_db \n",
    "from snowexsql.conversions import query_to_geopandas, query_to_pandas\n",
    "from geopandas import GeoDataFrame\n",
    "import pandas as pd \n",
    "\n",
    "db_name = 'snow:hackweek@db.snowexdata.org/snowex'"
   ]
  },
  {
   "cell_type": "code",
   "execution_count": 36,
   "id": "6d945bf4",
   "metadata": {},
   "outputs": [],
   "source": [
    "engine, session = get_db(db_name)\n",
    "\n",
    "qry = session.query(SiteData.geom, SiteData.site_id).distinct()\n",
    "df = query_to_geopandas(qry, engine)\n"
   ]
  },
  {
   "cell_type": "code",
   "execution_count": 37,
   "id": "3a42cd04",
   "metadata": {},
   "outputs": [
    {
     "data": {
      "text/plain": [
       "<matplotlib.axes._subplots.AxesSubplot at 0x7fe58492b940>"
      ]
     },
     "execution_count": 37,
     "metadata": {},
     "output_type": "execute_result"
    },
    {
     "data": {
      "image/png": "[encoded data removed]",
      "text/plain": [
       "<Figure size 432x288 with 1 Axes>"
      ]
     },
     "metadata": {
      "needs_background": "light"
     },
     "output_type": "display_data"
    }
   ],
   "source": [
    "df.to_crs(epsg=4326)\n",
    "df.plot()"
   ]
  },
  {
   "cell_type": "code",
   "execution_count": 38,
   "id": "c089e432",
   "metadata": {},
   "outputs": [],
   "source": [
    "df.to_file('snowex_site_locations.json')  \n",
    "df.to_file('snowex_site_locations.shp')  "
   ]
  },
  {
   "cell_type": "code",
   "execution_count": null,
   "id": "3625a31b",
   "metadata": {},
   "outputs": [],
   "source": [
    "\n",
    "    "
   ]
  },
  {
   "cell_type": "code",
   "execution_count": null,
   "id": "c780d58c",
   "metadata": {},
   "outputs": [],
   "source": []
  }
 ],
 "metadata": {
  "kernelspec": {
   "display_name": "Python 3 (ipykernel)",
   "language": "python",
   "name": "python3"
  },
  "language_info": {
   "codemirror_mode": {
    "name": "ipython",
    "version": 3
   },
   "file_extension": ".py",
   "mimetype": "text/x-python",
   "name": "python",
   "nbconvert_exporter": "python",
   "pygments_lexer": "ipython3",
   "version": "3.8.10"
  }
 },
 "nbformat": 4,
 "nbformat_minor": 5
}
