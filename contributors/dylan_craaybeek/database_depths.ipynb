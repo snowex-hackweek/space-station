{
 "cells": [
  {
   "cell_type": "code",
   "execution_count": 7,
   "id": "672e9de6-b754-4e09-b766-de56178d101f",
   "metadata": {},
   "outputs": [],
   "source": [
    "from snowexsql.db import get_db\n",
    "from snowexsql.data import SiteData, PointData, LayerData, ImageData\n",
    "from snowexsql.conversions import query_to_geopandas \n",
    "db_name = 'snow:hackweek@db.snowexdata.org/snowex'\n",
    "engine, session = get_db(db_name)\n"
   ]
  },
  {
   "cell_type": "code",
   "execution_count": 3,
   "id": "88dc6d06-e8bc-419a-a171-d64b02afa7a4",
   "metadata": {},
   "outputs": [
    {
     "name": "stdout",
     "output_type": "stream",
     "text": [
      "[('depth',), ('swe',), ('two_way_travel',)]\n"
     ]
    }
   ],
   "source": [
    "qry = session.query(PointData.type).distinct()\n",
    "result = qry.all()\n",
    "print(result)"
   ]
  },
  {
   "cell_type": "code",
   "execution_count": 4,
   "id": "dd639920-4127-4b66-ae28-bbf33c16bc56",
   "metadata": {},
   "outputs": [
    {
     "name": "stdout",
     "output_type": "stream",
     "text": [
      "[(None,), ('Mala 1600 MHz GPR',), ('Mala 800 MHz GPR',), ('pulse EKKO Pro multi-polarization 1 GHz GPR',), ('pit ruler',), ('mesa',), ('magnaprobe',), ('camera',)]\n"
     ]
    }
   ],
   "source": [
    "qry = session.query(PointData.instrument).distinct()\n",
    "result = qry.all()\n",
    "print(result)"
   ]
  },
  {
   "cell_type": "code",
   "execution_count": 9,
   "id": "ae8023b5-1c8c-4051-86c6-5c167e63f2ec",
   "metadata": {},
   "outputs": [
    {
     "name": "stdout",
     "output_type": "stream",
     "text": [
      "     value                            geom\n",
      "0     83.0  POINT (754172.639 4325871.377)\n",
      "1    100.0  POINT (742673.504 4325582.611)\n",
      "2    117.0  POINT (746962.449 4321490.615)\n",
      "3     98.0  POINT (745520.203 4322983.253)\n",
      "4     92.0  POINT (743137.395 4324309.223)\n",
      "..     ...                             ...\n",
      "162  110.0  POINT (745418.642 4322598.986)\n",
      "163  139.0  POINT (744082.713 4322607.453)\n",
      "164   88.0  POINT (741369.238 4324492.547)\n",
      "165  104.0  POINT (745936.457 4322754.031)\n",
      "166  107.0  POINT (743728.251 4324257.506)\n",
      "\n",
      "[167 rows x 2 columns]\n"
     ]
    }
   ],
   "source": [
    "qry = session.query(PointData.value, PointData.geom).filter(PointData.type == 'depth')\n",
    "qry = qry.filter(PointData.instrument == 'pit ruler')\n",
    "qry = qry.filter(PointData.utm_zone == 12)\n",
    "result = query_to_geopandas(qry, engine)\n",
    "print(result)"
   ]
  },
  {
   "cell_type": "code",
   "execution_count": 10,
   "id": "c7061abf-3628-4f27-9d82-a2fa7cdb19d8",
   "metadata": {},
   "outputs": [
    {
     "data": {
      "text/plain": [
       "<AxesSubplot:>"
      ]
     },
     "execution_count": 10,
     "metadata": {},
     "output_type": "execute_result"
    },
    {
     "data": {
      "image/png": "[encoded data removed]",
      "text/plain": [
       "<Figure size 432x288 with 1 Axes>"
      ]
     },
     "metadata": {
      "needs_background": "light"
     },
     "output_type": "display_data"
    }
   ],
   "source": [
    "result.plot()"
   ]
  },
  {
   "cell_type": "code",
   "execution_count": null,
   "id": "c8d76915-95bf-4042-9c00-33f8c96bbacd",
   "metadata": {},
   "outputs": [],
   "source": []
  }
 ],
 "metadata": {
  "kernelspec": {
   "display_name": "Python 3 (ipykernel)",
   "language": "python",
   "name": "python3"
  },
  "language_info": {
   "codemirror_mode": {
    "name": "ipython",
    "version": 3
   },
   "file_extension": ".py",
   "mimetype": "text/x-python",
   "name": "python",
   "nbconvert_exporter": "python",
   "pygments_lexer": "ipython3",
   "version": "3.10.5"
  }
 },
 "nbformat": 4,
 "nbformat_minor": 5
}
