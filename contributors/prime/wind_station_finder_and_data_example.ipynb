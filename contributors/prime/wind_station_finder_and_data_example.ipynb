{
 "cells": [
  {
   "cell_type": "code",
   "execution_count": null,
   "id": "869a047e",
   "metadata": {},
   "outputs": [],
   "source": [
    "import geopandas as gpd\n",
    "from datetime import datetime\n",
    "\n",
    "from metloom.pointdata import MesowestPointData"
   ]
  },
  {
   "cell_type": "markdown",
   "id": "9baec1b9",
   "metadata": {},
   "source": [
    "## READ THIS FOR MESOWEST DATA\n",
    "https://metloom.readthedocs.io/en/latest/usage.html#mesowest\n",
    "You'll also need to pip install metloom"
   ]
  },
  {
   "cell_type": "code",
   "execution_count": null,
   "id": "3b85ed03",
   "metadata": {},
   "outputs": [],
   "source": [
    "\n",
    "# Import the function to get connect to the db\n",
    "from snowexsql.db import get_db\n",
    "\n",
    "# Import our class for the layer data\n",
    "from snowexsql.data import PointData, SiteData\n",
    "\n",
    "# Import a useful function to format that data into a dataframe\n",
    "from snowexsql.conversions import query_to_geopandas\n",
    "\n",
    "# Import some tools to build dates \n",
    "from datetime import date\n",
    "\n",
    "# This is what you will use for all of hackweek to access the db\n",
    "db_name = 'snow:hackweek@db.snowexdata.org/snowex'"
   ]
  },
  {
   "cell_type": "code",
   "execution_count": null,
   "id": "78668fd4",
   "metadata": {},
   "outputs": [],
   "source": [
    "engine, session = get_db(db_name)\n",
    "qry = session.query(SiteData.site_name, SiteData.site_id, SiteData.geom)\n",
    "qry = qry.filter(SiteData.site_name == \"Grand Mesa\")\n",
    "\n",
    "gdf_snow_ex = query_to_geopandas(qry, engine) # .drop_duplicates(subset=[\"site_name\"])\n",
    "session.close()\n",
    "\n",
    "print(f\"The CRS of the Snow Ex metadata is - {gdf_snow_ex.crs}\")\n",
    "gdf_snow_ex_buffer = gdf_snow_ex.buffer(50000)\n",
    "snow_ex_bounds = gdf_snow_ex.to_crs(4326).total_bounds\n"
   ]
  },
  {
   "cell_type": "code",
   "execution_count": null,
   "id": "fce52ce7",
   "metadata": {},
   "outputs": [],
   "source": [
    "from shapely.geometry import box\n",
    "def bounds_to_shapefile(bounds, file_name, crs):\n",
    "    b = [box(*bounds)]\n",
    "    gdf = gpd.GeoDataFrame(geometry=b).set_crs(crs)\n",
    "    gdf.to_file(file_name)"
   ]
  },
  {
   "cell_type": "code",
   "execution_count": null,
   "id": "3d6338b6",
   "metadata": {},
   "outputs": [],
   "source": [
    "# Specify some user inputs\n",
    "start_date = datetime(2020, 2, 1)\n",
    "end_date = datetime(2020, 2, 3)\n",
    "shape_file_path = \"gm_bounds.shp\""
   ]
  },
  {
   "cell_type": "code",
   "execution_count": null,
   "id": "2d3e269f",
   "metadata": {},
   "outputs": [],
   "source": [
    "bounds_to_shapefile(snow_ex_bounds, shape_file_path, 4326)\n",
    "df_shp = gpd.read_file(shape_file_path)\n",
    "df_shp.plot()\n",
    "print(df_shp.bounds)"
   ]
  },
  {
   "cell_type": "code",
   "execution_count": null,
   "id": "53190349",
   "metadata": {},
   "outputs": [],
   "source": [
    "# variables of interest\n",
    "var_objs = [MesowestPointData.ALLOWED_VARIABLES.WINDSPEED, MesowestPointData.ALLOWED_VARIABLES.WINDDIRECTION\n",
    "            ]\n",
    "# read in the shape file\n",
    "sf = gpd.read_file(shape_file_path)\n",
    "\n",
    "# get a collection of points\n",
    "points = MesowestPointData.points_from_geometry(\n",
    "    sf, var_objs, within_geometry=False, buffer=0.1\n",
    ")\n",
    "\n",
    "# iterate through points and get hourly data\n",
    "result_map = {}\n",
    "for point in points:\n",
    "    result = point.get_hourly_data(\n",
    "        start_date, end_date, var_objs\n",
    "    )\n",
    "    result_map[point.id] = result\n",
    "# print(result_map)"
   ]
  },
  {
   "cell_type": "code",
   "execution_count": null,
   "id": "4e52723e",
   "metadata": {},
   "outputs": [],
   "source": []
  }
 ],
 "metadata": {
  "kernelspec": {
   "display_name": "Python 3 (ipykernel)",
   "language": "python",
   "name": "python3"
  },
  "language_info": {
   "codemirror_mode": {
    "name": "ipython",
    "version": 3
   },
   "file_extension": ".py",
   "mimetype": "text/x-python",
   "name": "python",
   "nbconvert_exporter": "python",
   "pygments_lexer": "ipython3",
   "version": "3.10.4"
  }
 },
 "nbformat": 4,
 "nbformat_minor": 5
}
