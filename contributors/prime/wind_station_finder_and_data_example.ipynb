{
 "cells": [
  {
   "cell_type": "code",
   "execution_count": null,
   "id": "c2dd8261",
   "metadata": {},
   "outputs": [],
   "source": [
    "import geopandas as gpd\n",
    "from datetime import datetime\n",
    "\n",
    "from metloom.pointdata import MesowestPointData"
   ]
  },
  {
   "cell_type": "markdown",
   "id": "185925da",
   "metadata": {},
   "source": [
    "## READ THIS FOR MESOWEST DATA\n",
    "https://metloom.readthedocs.io/en/latest/usage.html#mesowest\n",
    "You'll also need to pip install metloom"
   ]
  },
  {
   "cell_type": "code",
   "execution_count": null,
   "id": "ed38ddf0",
   "metadata": {},
   "outputs": [],
   "source": [
    "\n",
    "# Import the function to get connect to the db\n",
    "from snowexsql.db import get_db\n",
    "\n",
    "# Import our class for the layer data\n",
    "from snowexsql.data import PointData, SiteData\n",
    "\n",
    "# Import a useful function to format that data into a dataframe\n",
    "from snowexsql.conversions import query_to_geopandas\n",
    "\n",
    "# Import some tools to build dates \n",
    "from datetime import date\n",
    "\n",
    "# This is what you will use for all of hackweek to access the db\n",
    "db_name = 'snow:hackweek@db.snowexdata.org/snowex'"
   ]
  },
  {
   "cell_type": "code",
   "execution_count": null,
   "id": "22bb20d8",
   "metadata": {},
   "outputs": [],
   "source": [
    "engine, session = get_db(db_name)\n",
    "qry = session.query(SiteData.site_name, SiteData.site_id, SiteData.geom)\n",
    "qry = qry.filter(SiteData.site_name == \"Grand Mesa\")\n",
    "\n",
    "gdf_snow_ex = query_to_geopandas(qry, engine) # .drop_duplicates(subset=[\"site_name\"])\n",
    "session.close()\n",
    "\n",
    "print(f\"The CRS of the Snow Ex metadata is - {gdf_snow_ex.crs}\")\n",
    "gdf_snow_ex_buffer = gdf_snow_ex.buffer(5000)\n",
    "snow_ex_bounds = gdf_snow_ex.to_crs(4326).total_bounds\n"
   ]
  },
  {
   "cell_type": "code",
   "execution_count": null,
   "id": "c572ac24",
   "metadata": {},
   "outputs": [],
   "source": [
    "from shapely.geometry import box\n",
    "def bounds_to_shapefile(bounds, file_name, crs):\n",
    "    b = [box(*bounds)]\n",
    "    gdf = gpd.GeoDataFrame(geometry=b).set_crs(crs)\n",
    "    gdf.to_file(file_name)"
   ]
  },
  {
   "cell_type": "code",
   "execution_count": null,
   "id": "3d22a613",
   "metadata": {},
   "outputs": [],
   "source": [
    "# Specify some user inputs\n",
    "start_date = datetime(2020, 2, 1)\n",
    "end_date = datetime(2020, 2, 3)\n",
    "shape_file_path = \"gm_bounds.shp\""
   ]
  },
  {
   "cell_type": "code",
   "execution_count": null,
   "id": "fa3f115e",
   "metadata": {},
   "outputs": [],
   "source": [
    "bounds_to_shapefile(snow_ex_bounds, shape_file_path, 4326)\n",
    "df_shp = gpd.read_file(shape_file_path)\n",
    "df_shp.plot()\n",
    "print(df_shp.bounds)"
   ]
  },
  {
   "cell_type": "code",
   "execution_count": null,
   "id": "4a4a22bf",
   "metadata": {},
   "outputs": [],
   "source": [
    "# variables of interest\n",
    "var_objs = [MesowestPointData.ALLOWED_VARIABLES.WINDSPEED, MesowestPointData.ALLOWED_VARIABLES.WINDDIRECTION\n",
    "            ]\n",
    "# read in the shape file\n",
    "sf = gpd.read_file(shape_file_path)\n",
    "\n",
    "# get a collection of points\n",
    "points = MesowestPointData.points_from_geometry(\n",
    "    sf, var_objs, within_geometry=False, buffer=0.1\n",
    ")\n"
   ]
  },
  {
   "cell_type": "code",
   "execution_count": null,
   "id": "22897fe4",
   "metadata": {},
   "outputs": [],
   "source": [
    "# explore our points\n",
    "'''\n",
    "jupyter trust wind_station_finder_and_data_example.ipynb\n",
    "'''\n",
    "points_df = points.to_dataframe().set_crs(4326)\n",
    "print(points_df.crs)\n",
    "points_map = points_df.explore(tooltip=[i for i in points_df.columns if not i.lower().startswith(\"geo\")])\n",
    "points_map = sf.explore(m=points_map, style_kwds={\"fillOpacity\": 0.1})\n",
    "# plot the map\n",
    "points_map"
   ]
  },
  {
   "cell_type": "code",
   "execution_count": null,
   "id": "4ba4cb34",
   "metadata": {},
   "outputs": [],
   "source": [
    "# iterate through points and get hourly data\n",
    "result_map = {}\n",
    "for point in points:\n",
    "    result = point.get_hourly_data(\n",
    "        start_date, end_date, var_objs\n",
    "    )\n",
    "    result_map[point.id] = result\n",
    "# print(result_map)"
   ]
  },
  {
   "cell_type": "code",
   "execution_count": null,
   "id": "1b04e6d2",
   "metadata": {},
   "outputs": [],
   "source": []
  }
 ],
 "metadata": {
  "kernelspec": {
   "display_name": "Python 3 (ipykernel)",
   "language": "python",
   "name": "python3"
  },
  "language_info": {
   "codemirror_mode": {
    "name": "ipython",
    "version": 3
   },
   "file_extension": ".py",
   "mimetype": "text/x-python",
   "name": "python",
   "nbconvert_exporter": "python",
   "pygments_lexer": "ipython3",
   "version": "3.10.4"
  }
 },
 "nbformat": 4,
 "nbformat_minor": 5
}
