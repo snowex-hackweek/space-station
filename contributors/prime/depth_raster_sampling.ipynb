{
 "cells": [
  {
   "cell_type": "code",
   "execution_count": null,
   "id": "40f10d04-8b56-4a86-b8dd-b05baba2c009",
   "metadata": {},
   "outputs": [],
   "source": [
    "import rasterio\n",
    "import matplotlib.pyplot as plt\n",
    "import numpy as np\n",
    "from datetime import date"
   ]
  },
  {
   "cell_type": "code",
   "execution_count": null,
   "id": "115b0a86-be99-46c9-b444-f92aa735ff59",
   "metadata": {},
   "outputs": [],
   "source": [
    "# Import the function to get connect to the db\n",
    "from snowexsql.db import get_db\n",
    "\n",
    "# This is what you will use for all of hackweek to access the db\n",
    "db_name = 'snow:hackweek@db.snowexdata.org/snowex'"
   ]
  },
  {
   "cell_type": "code",
   "execution_count": null,
   "id": "0f19de4d-e50f-4fb5-b7fb-87f1f8e12390",
   "metadata": {},
   "outputs": [],
   "source": [
    "from snowexsql.data import PointData, ImageData"
   ]
  },
  {
   "cell_type": "code",
   "execution_count": null,
   "id": "a5a03090-9f1b-4085-819a-e554da82abcc",
   "metadata": {},
   "outputs": [],
   "source": [
    "from metloom.pointdata import SnotelPointData\n",
    "import geopandas as gpd"
   ]
  },
  {
   "cell_type": "code",
   "execution_count": null,
   "id": "7fe44167-8c99-4600-a240-a57a85b8bb8c",
   "metadata": {},
   "outputs": [],
   "source": [
    "# import necessary libraries\n",
    "from snowexsql.data import SiteData, ImageData\n",
    "from snowexsql.conversions import raster_to_rasterio, query_to_geopandas\n",
    "from geoalchemy2.types import Raster\n",
    "import geoalchemy2.functions as gfunc\n",
    "from geoalchemy2.shape import from_shape,to_shape\n",
    "from rasterio.plot import show\n",
    "from sqlalchemy.sql import func"
   ]
  },
  {
   "cell_type": "code",
   "execution_count": null,
   "id": "b397d36e-7318-49e2-993e-02224bd15277",
   "metadata": {},
   "outputs": [],
   "source": [
    " def get_aso_depths(dt, snotel_code=\"622:CO:SNTL\", crs=26912, buffer_dist=1000):\n",
    "    \"\"\"\n",
    "    Args:\n",
    "        dt: datetime or date object\n",
    "        snotel_code: desired NRCS api station code\n",
    "        crs: integer crs\n",
    "        buffer_dist: buffer distance in same units as crs (default 1000 m)\n",
    "    \"\"\"\n",
    "    # Pull in Snotel point \n",
    "    sntl_point = SnotelPointData(snotel_code, \"dummy name\")\n",
    "    geom = sntl_point.metadata\n",
    "    geom = gpd.GeoSeries(geom).set_crs(4326).to_crs(crs).geometry.values[0]\n",
    "\n",
    "    # grab a session\n",
    "    engine, session = get_db(db_name)\n",
    "\n",
    "    # Building a buffer which will give us a buffer object around our point\n",
    "    buffer = session.query(gfunc.ST_SetSRID(gfunc.ST_Buffer(from_shape(geom), buffer_dist), crs)).all()[0][0]\n",
    "\n",
    "    # Convert to a shapely shapefile object\n",
    "    circle = to_shape(buffer)\n",
    "\n",
    "    # Convert to a geopandas dataframe\n",
    "    df_circle = gpd.GeoSeries(circle)\n",
    "\n",
    "    # Grab the rasters, union them and convert them as tiff when done\n",
    "    q = session.query(func.ST_AsTiff(func.ST_Union(ImageData.raster, type_=Raster)))\n",
    "\n",
    "    # Only grab rasters that are the bare earth DEM from USGS\n",
    "    q = q.filter(ImageData.type == 'depth').filter(ImageData.observers=='ASO Inc.')\n",
    "    q = q.filter(ImageData.date == dt)\n",
    "\n",
    "    # And grab rasters touching the circle\n",
    "    q = q.filter(gfunc.ST_Intersects(ImageData.raster, buffer))\n",
    "\n",
    "    # Execute the query\n",
    "    rasters = q.all()\n",
    "\n",
    "    # Get the rasterio object of the raster\n",
    "    dataset = raster_to_rasterio(session, rasters)[0]\n",
    "    return dataset\n",
    "    \n",
    "\n",
    "# get the dataset of \n",
    "dataset = get_aso_depths(date(2020, 2, 2))"
   ]
  },
  {
   "cell_type": "code",
   "execution_count": null,
   "id": "6f1e8479",
   "metadata": {},
   "outputs": [],
   "source": [
    "import numpy as np\n",
    "\n",
    "def rasterio_to_df(dataset):\n",
    "    data = dataset.read(1)\n",
    "    data[data < 0 ] = np.nan\n",
    "    data_shape = data.shape\n",
    "    crs = dataset.crs\n",
    "    cols, rows = np.meshgrid(np.arange(data_shape[0]), np.arange(data_shape[1]))\n",
    "    xs, ys = rasterio.transform.xy(dataset.transform, rows, cols)\n",
    "\n",
    "    xs = np.array([np.array(xi) for xi in xs])\n",
    "    ys = np.array([np.array(yi) for yi in ys])\n",
    "    values = data.flatten()\n",
    "    points = gpd.points_from_xy(xs.flatten(), ys.flatten())\n",
    "    df_depths = gpd.GeoDataFrame(geometry=points)\n",
    "    df_depths[\"depth\"] = values\n",
    "    df_depths = df_depths.set_crs(crs)\n",
    "    df_depths = df_depths.dropna()\n",
    "    return df_depths"
   ]
  },
  {
   "cell_type": "code",
   "execution_count": null,
   "id": "b9d2bd33",
   "metadata": {},
   "outputs": [],
   "source": [
    "# convert the first band of the rasterio dataset to a geodataframe\n",
    "df_depths = rasterio_to_df(dataset)\n",
    "# convert crs\n",
    "df_depths = df_depths.to_crs(4326)\n",
    "df_depths.head()"
   ]
  },
  {
   "cell_type": "code",
   "execution_count": null,
   "id": "23a7a068",
   "metadata": {},
   "outputs": [],
   "source": [
    "print(len(df_depths))\n",
    "df_depths.plot(column=\"depth\", cmap=\"viridis\")"
   ]
  },
  {
   "cell_type": "code",
   "execution_count": null,
   "id": "7f0be428-134a-473a-904b-143a7f7bda06",
   "metadata": {},
   "outputs": [],
   "source": [
    "\n",
    "# Create a single plot to add everything to\n",
    "fig, ax = plt.subplots(figsize=(8,8))\n",
    "\n",
    "# Plot the DEM\n",
    "img = show(dataset, ax=ax, transform=dataset.transform, cmap='terrain')\n",
    "\n",
    "# Plot the contours of the DEM (Just for kicks!) at 10m intervals\n",
    "show(dataset, contour=True, levels=[s for s in np.arange(3000, 4000, 10)], colors='dimgray', ax=ax, transform=dataset.transform)\n",
    "\n",
    "# Plot the circle as blue with slight transparency\n",
    "df_circle.plot(ax=ax, color='b', alpha=0.4, edgecolor='black')\n",
    "\n"
   ]
  },
  {
   "cell_type": "code",
   "execution_count": null,
   "id": "395c2499",
   "metadata": {},
   "outputs": [],
   "source": []
  }
 ],
 "metadata": {
  "kernelspec": {
   "display_name": "Python 3 (ipykernel)",
   "language": "python",
   "name": "python3"
  },
  "language_info": {
   "codemirror_mode": {
    "name": "ipython",
    "version": 3
   },
   "file_extension": ".py",
   "mimetype": "text/x-python",
   "name": "python",
   "nbconvert_exporter": "python",
   "pygments_lexer": "ipython3",
   "version": "3.10.4"
  }
 },
 "nbformat": 4,
 "nbformat_minor": 5
}
